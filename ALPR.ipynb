{
  "nbformat": 4,
  "nbformat_minor": 0,
  "metadata": {
    "colab": {
      "name": "ALPR.ipynb",
      "provenance": [],
      "collapsed_sections": []
    },
    "kernelspec": {
      "name": "python3",
      "display_name": "Python 3"
    },
    "language_info": {
      "name": "python"
    },
    "accelerator": "GPU"
  },
  "cells": [
    {
      "cell_type": "code",
      "execution_count": null,
      "metadata": {
        "id": "_54s-KZLCJOf"
      },
      "outputs": [],
      "source": [
        "!pip install opencv-contrib-python\n",
        "!pip install imutils\n",
        "!pip install easyocr"
      ]
    },
    {
      "cell_type": "code",
      "source": [
        "import cv2\n",
        "import imutils\n",
        "import pandas as pd\n",
        "import numpy as np\n",
        "from easyocr import Reader\n",
        "from matplotlib import pyplot as plt"
      ],
      "metadata": {
        "id": "bom6CzxVCT2Z"
      },
      "execution_count": 25,
      "outputs": []
    },
    {
      "cell_type": "code",
      "source": [
        "def get_plate(img_name):\n",
        "  image = cv2.imread(img_name)\n",
        "  image = imutils.resize(image, width=300 )\n",
        "  gray_image = cv2.cvtColor(image, cv2.COLOR_BGR2GRAY)\n",
        "  gray_image = cv2.bilateralFilter(gray_image, 11, 17, 17) \n",
        "  edged = cv2.Canny(gray_image, 30, 200) \n",
        "  cnts,new = cv2.findContours(edged.copy(), cv2.RETR_LIST, cv2.CHAIN_APPROX_SIMPLE)\n",
        "  image1=image.copy()\n",
        "  cv2.drawContours(image1,cnts,-1,(0,255,0),3)\n",
        "  cnts = sorted(cnts, key = cv2.contourArea, reverse = True) [:30]\n",
        "  screenCnt = None\n",
        "  image2 = image.copy()\n",
        "  cv2.drawContours(image2,cnts,-1,(0,255,0),3)\n",
        "  for c in cnts:\n",
        "          perimeter = cv2.arcLength(c, True)\n",
        "          approx = cv2.approxPolyDP(c, 0.018 * perimeter, True)\n",
        "          if len(approx) == 4: \n",
        "                  screenCnt = approx\n",
        "                  x,y,w,h = cv2.boundingRect(c) \n",
        "                  new_img=image[y:y+h,x:x+w]\n",
        "                  cv2.imwrite('./'+'temp.png',new_img)\n",
        "                  break\n",
        "  cv2.drawContours(image, [screenCnt], -1, (0, 255, 0), 3)"
      ],
      "metadata": {
        "id": "au4tDlomwoeR"
      },
      "execution_count": 26,
      "outputs": []
    },
    {
      "cell_type": "code",
      "source": [
        "def read_plate(img_name):\n",
        "  license_plate=cv2.imread(img_name)\n",
        "  reader = Reader(['en'])\n",
        "  detection = reader.readtext(license_plate,paragraph=\"False\")\n",
        "  res=\"\"\n",
        "  for i in detection:\n",
        "    res+=i[1]\n",
        "  return res"
      ],
      "metadata": {
        "id": "vxGdljDBJu4P"
      },
      "execution_count": 27,
      "outputs": []
    },
    {
      "cell_type": "code",
      "source": [
        "def detect_color(img_name):\n",
        "  plate_image=cv2.imread(img_name)\n",
        "  counter=0\n",
        "  b=[]\n",
        "  g=[]\n",
        "  r=[]\n",
        "  for x in np.nditer(plate_image):\n",
        "    if counter==0:\n",
        "      b.append(int(x))\n",
        "      counter+=1\n",
        "    elif counter==1:\n",
        "      g.append(int(x))\n",
        "      counter+=1\n",
        "    else:\n",
        "      r.append(int(x))\n",
        "      counter=0\n",
        "  #DETERMINE IF RED COLOR IS PRESENT\n",
        "  c0=0\n",
        "  c1=0\n",
        "  for i in r:\n",
        "    if i<55:\n",
        "      c0+=1\n",
        "    elif i>200:\n",
        "      c1+=1\n",
        "  if c0>c1:\n",
        "    red=False\n",
        "  else:\n",
        "    red=True\n",
        "\n",
        "  #DETERMINE IF BLUE COLOR IS PRESENT\n",
        "  c0=0\n",
        "  c1=0\n",
        "  for i in b:\n",
        "    if i<55:\n",
        "      c0+=1\n",
        "    elif i>200:\n",
        "      c1+=1\n",
        "  if c0>c1:\n",
        "    blue=False\n",
        "  else:\n",
        "    blue=True\n",
        "\n",
        "  #DETERMINE IF GREEN COLOR IS PRESENT\n",
        "  c0=0\n",
        "  c1=0\n",
        "  for i in g:\n",
        "    if i<127:\n",
        "      c0+=1\n",
        "    elif i>128:\n",
        "      c1+=1\n",
        "  if c0>c1:\n",
        "    green=False\n",
        "  else:\n",
        "    green=True\n",
        "\n",
        "  if red and green and blue:\n",
        "    return(\"WHITE\")\n",
        "  elif red and green:\n",
        "    return(\"YELLOW\")\n",
        "  elif red:\n",
        "    return(\"RED\")\n",
        "  elif green:\n",
        "    return(\"GREEN\")\n",
        "  elif blue:\n",
        "    return(\"BLUE\")\n",
        "  else:\n",
        "    return(\"BLACK\")"
      ],
      "metadata": {
        "id": "QFxHKXWJK76Z"
      },
      "execution_count": 28,
      "outputs": []
    },
    {
      "cell_type": "code",
      "source": [
        "data=pd.read_csv('dataset.csv')\n",
        "#print(data)"
      ],
      "metadata": {
        "id": "B_f1YISJ0ReO"
      },
      "execution_count": 29,
      "outputs": []
    },
    {
      "cell_type": "code",
      "source": [
        "contour_detection_success=0\n",
        "contour_detection=0\n",
        "plate_detection_success=0\n",
        "plate_detection=0\n",
        "color_detection_success=0\n",
        "color_detection=0"
      ],
      "metadata": {
        "id": "Lv2rAgHo0xQC"
      },
      "execution_count": 30,
      "outputs": []
    },
    {
      "cell_type": "code",
      "source": [
        "for i in range(len(data['img'])):\n",
        "  img_name='images/'+data['img'][i]\n",
        "  if data['img'][i].startswith(\"car\"):\n",
        "    try:\n",
        "      contour_detection+=1\n",
        "      flag=True\n",
        "      get_plate(img_name)\n",
        "    except Exception as e:\n",
        "      flag=False\n",
        "    if flag:\n",
        "      contour_detection_success+=1\n",
        "      plate_detection+=1\n",
        "      color_detection+=1\n",
        "      plate=read_plate('temp.png')\n",
        "      check=0\n",
        "      for x in data['plate'][i]:\n",
        "        if x in plate.upper():\n",
        "          check+=1\n",
        "      if check/len(data['plate'][i])>=0.75:\n",
        "        plate_detection_success+=1\n",
        "      color=detect_color('temp.png')\n",
        "      if color==data['color'][i]:\n",
        "        color_detection_success+=1\n",
        "  else:\n",
        "    plate_detection+=1\n",
        "    color_detection+=1\n",
        "    plate=read_plate(img_name)\n",
        "    check=0\n",
        "    for x in data['plate'][i]:\n",
        "        if x in plate.upper():\n",
        "          check+=1\n",
        "    if check/len(data['plate'][i])>=0.75:\n",
        "        plate_detection_success+=1\n",
        "    color=detect_color(img_name)\n",
        "    if color==data['color'][i]:\n",
        "        color_detection_success+=1"
      ],
      "metadata": {
        "id": "3ZKLwJqa00de"
      },
      "execution_count": 31,
      "outputs": []
    },
    {
      "cell_type": "code",
      "source": [
        "print(\"Accuracy of Contour Detection is: %.2f\"%(contour_detection_success/contour_detection))\n",
        "print(\"Accuracy of Plate Reading is: %.2f\"%(plate_detection_success/plate_detection))\n",
        "print(\"Accuracy of Color Detection is: %.2f\"%(color_detection_success/color_detection))"
      ],
      "metadata": {
        "id": "euvJL5RY73lp"
      },
      "execution_count": null,
      "outputs": []
    },
    {
      "cell_type": "code",
      "source": [
        "print(\"Overall Accuracy is: %.2f\"%((contour_detection_success+plate_detection_success+color_detection_success)/(contour_detection+plate_detection+color_detection)))"
      ],
      "metadata": {
        "id": "YcZExFNjE4aG"
      },
      "execution_count": null,
      "outputs": []
    }
  ]
}